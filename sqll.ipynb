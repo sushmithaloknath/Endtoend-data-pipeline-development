{
 "cells": [
  {
   "cell_type": "code",
   "execution_count": 1,
   "id": "7d5a67d4",
   "metadata": {},
   "outputs": [
    {
     "name": "stdout",
     "output_type": "stream",
     "text": [
      "Requirement already satisfied: pandas in c:\\users\\hp\\appdata\\local\\programs\\python\\python311\\lib\\site-packages (2.2.2)\n",
      "Collecting mysql-connector-python\n",
      "  Downloading mysql_connector_python-9.2.0-cp311-cp311-win_amd64.whl.metadata (6.2 kB)\n",
      "Requirement already satisfied: numpy>=1.23.2 in c:\\users\\hp\\appdata\\local\\programs\\python\\python311\\lib\\site-packages (from pandas) (1.26.4)\n",
      "Requirement already satisfied: python-dateutil>=2.8.2 in c:\\users\\hp\\appdata\\local\\programs\\python\\python311\\lib\\site-packages (from pandas) (2.8.2)\n",
      "Requirement already satisfied: pytz>=2020.1 in c:\\users\\hp\\appdata\\local\\programs\\python\\python311\\lib\\site-packages (from pandas) (2024.1)\n",
      "Requirement already satisfied: tzdata>=2022.7 in c:\\users\\hp\\appdata\\local\\programs\\python\\python311\\lib\\site-packages (from pandas) (2024.1)\n",
      "Requirement already satisfied: six>=1.5 in c:\\users\\hp\\appdata\\local\\programs\\python\\python311\\lib\\site-packages (from python-dateutil>=2.8.2->pandas) (1.16.0)\n",
      "Downloading mysql_connector_python-9.2.0-cp311-cp311-win_amd64.whl (16.1 MB)\n",
      "   ---------------------------------------- 0.0/16.1 MB ? eta -:--:--\n",
      "   ---------------------------------------- 0.1/16.1 MB 2.0 MB/s eta 0:00:09\n",
      "   ---------------------------------------- 0.1/16.1 MB 2.0 MB/s eta 0:00:09\n",
      "    --------------------------------------- 0.2/16.1 MB 1.9 MB/s eta 0:00:09\n",
      "    --------------------------------------- 0.2/16.1 MB 1.9 MB/s eta 0:00:09\n",
      "    --------------------------------------- 0.2/16.1 MB 1.9 MB/s eta 0:00:09\n",
      "    --------------------------------------- 0.3/16.1 MB 1.4 MB/s eta 0:00:12\n",
      "   - -------------------------------------- 0.4/16.1 MB 1.4 MB/s eta 0:00:12\n",
      "   - -------------------------------------- 0.6/16.1 MB 1.5 MB/s eta 0:00:11\n",
      "   - -------------------------------------- 0.7/16.1 MB 1.6 MB/s eta 0:00:10\n",
      "   - -------------------------------------- 0.8/16.1 MB 1.7 MB/s eta 0:00:09\n",
      "   -- ------------------------------------- 1.0/16.1 MB 1.9 MB/s eta 0:00:09\n",
      "   -- ------------------------------------- 1.1/16.1 MB 1.9 MB/s eta 0:00:08\n",
      "   -- ------------------------------------- 1.2/16.1 MB 2.0 MB/s eta 0:00:08\n",
      "   --- ------------------------------------ 1.3/16.1 MB 2.0 MB/s eta 0:00:08\n",
      "   --- ------------------------------------ 1.4/16.1 MB 2.0 MB/s eta 0:00:08\n",
      "   --- ------------------------------------ 1.5/16.1 MB 2.1 MB/s eta 0:00:07\n",
      "   --- ------------------------------------ 1.6/16.1 MB 2.0 MB/s eta 0:00:08\n",
      "   ---- ----------------------------------- 1.7/16.1 MB 2.1 MB/s eta 0:00:07\n",
      "   ---- ----------------------------------- 1.9/16.1 MB 2.1 MB/s eta 0:00:07\n",
      "   ----- ---------------------------------- 2.0/16.1 MB 2.2 MB/s eta 0:00:07\n",
      "   ----- ---------------------------------- 2.2/16.1 MB 2.3 MB/s eta 0:00:07\n",
      "   ----- ---------------------------------- 2.3/16.1 MB 2.3 MB/s eta 0:00:06\n",
      "   ------ --------------------------------- 2.5/16.1 MB 2.4 MB/s eta 0:00:06\n",
      "   ------ --------------------------------- 2.7/16.1 MB 2.4 MB/s eta 0:00:06\n",
      "   ------ --------------------------------- 2.8/16.1 MB 2.4 MB/s eta 0:00:06\n",
      "   ------- -------------------------------- 3.0/16.1 MB 2.5 MB/s eta 0:00:06\n",
      "   ------- -------------------------------- 3.1/16.1 MB 2.5 MB/s eta 0:00:06\n",
      "   -------- ------------------------------- 3.3/16.1 MB 2.5 MB/s eta 0:00:06\n",
      "   -------- ------------------------------- 3.4/16.1 MB 2.5 MB/s eta 0:00:05\n",
      "   -------- ------------------------------- 3.4/16.1 MB 2.5 MB/s eta 0:00:05\n",
      "   --------- ------------------------------ 3.6/16.1 MB 2.6 MB/s eta 0:00:05\n",
      "   --------- ------------------------------ 3.8/16.1 MB 2.6 MB/s eta 0:00:05\n",
      "   --------- ------------------------------ 3.9/16.1 MB 2.6 MB/s eta 0:00:05\n",
      "   ---------- ----------------------------- 4.1/16.1 MB 2.6 MB/s eta 0:00:05\n",
      "   ---------- ----------------------------- 4.2/16.1 MB 2.6 MB/s eta 0:00:05\n",
      "   ---------- ----------------------------- 4.3/16.1 MB 2.6 MB/s eta 0:00:05\n",
      "   ----------- ---------------------------- 4.4/16.1 MB 2.6 MB/s eta 0:00:05\n",
      "   ----------- ---------------------------- 4.6/16.1 MB 2.6 MB/s eta 0:00:05\n",
      "   ----------- ---------------------------- 4.8/16.1 MB 2.6 MB/s eta 0:00:05\n",
      "   ------------ --------------------------- 4.9/16.1 MB 2.6 MB/s eta 0:00:05\n",
      "   ------------ --------------------------- 5.0/16.1 MB 2.6 MB/s eta 0:00:05\n",
      "   ------------ --------------------------- 5.2/16.1 MB 2.6 MB/s eta 0:00:05\n",
      "   ------------- -------------------------- 5.3/16.1 MB 2.7 MB/s eta 0:00:05\n",
      "   ------------- -------------------------- 5.5/16.1 MB 2.7 MB/s eta 0:00:04\n",
      "   ------------- -------------------------- 5.6/16.1 MB 2.7 MB/s eta 0:00:04\n",
      "   -------------- ------------------------- 5.8/16.1 MB 2.7 MB/s eta 0:00:04\n",
      "   -------------- ------------------------- 6.0/16.1 MB 2.7 MB/s eta 0:00:04\n",
      "   --------------- ------------------------ 6.1/16.1 MB 2.7 MB/s eta 0:00:04\n",
      "   --------------- ------------------------ 6.2/16.1 MB 2.7 MB/s eta 0:00:04\n",
      "   --------------- ------------------------ 6.4/16.1 MB 2.7 MB/s eta 0:00:04\n",
      "   ---------------- ----------------------- 6.5/16.1 MB 2.7 MB/s eta 0:00:04\n",
      "   ---------------- ----------------------- 6.7/16.1 MB 2.8 MB/s eta 0:00:04\n",
      "   ----------------- ---------------------- 6.9/16.1 MB 2.8 MB/s eta 0:00:04\n",
      "   ----------------- ---------------------- 7.1/16.1 MB 2.8 MB/s eta 0:00:04\n",
      "   ------------------ --------------------- 7.3/16.1 MB 2.9 MB/s eta 0:00:04\n",
      "   ------------------ --------------------- 7.5/16.1 MB 2.9 MB/s eta 0:00:03\n",
      "   ------------------- -------------------- 7.7/16.1 MB 2.9 MB/s eta 0:00:03\n",
      "   ------------------- -------------------- 7.7/16.1 MB 2.9 MB/s eta 0:00:03\n",
      "   ------------------- -------------------- 7.8/16.1 MB 2.8 MB/s eta 0:00:03\n",
      "   ------------------- -------------------- 8.0/16.1 MB 2.8 MB/s eta 0:00:03\n",
      "   -------------------- ------------------- 8.2/16.1 MB 2.9 MB/s eta 0:00:03\n",
      "   -------------------- ------------------- 8.4/16.1 MB 2.9 MB/s eta 0:00:03\n",
      "   --------------------- ------------------ 8.6/16.1 MB 2.9 MB/s eta 0:00:03\n",
      "   --------------------- ------------------ 8.8/16.1 MB 2.9 MB/s eta 0:00:03\n",
      "   ---------------------- ----------------- 9.0/16.1 MB 3.0 MB/s eta 0:00:03\n",
      "   ---------------------- ----------------- 9.2/16.1 MB 3.0 MB/s eta 0:00:03\n",
      "   ----------------------- ---------------- 9.4/16.1 MB 3.0 MB/s eta 0:00:03\n",
      "   ----------------------- ---------------- 9.6/16.1 MB 3.0 MB/s eta 0:00:03\n",
      "   ------------------------ --------------- 9.8/16.1 MB 3.1 MB/s eta 0:00:03\n",
      "   ------------------------ --------------- 10.0/16.1 MB 3.1 MB/s eta 0:00:02\n",
      "   ------------------------- -------------- 10.2/16.1 MB 3.1 MB/s eta 0:00:02\n",
      "   -------------------------- ------------- 10.5/16.1 MB 3.3 MB/s eta 0:00:02\n",
      "   -------------------------- ------------- 10.7/16.1 MB 3.3 MB/s eta 0:00:02\n",
      "   --------------------------- ------------ 11.0/16.1 MB 3.4 MB/s eta 0:00:02\n",
      "   --------------------------- ------------ 11.2/16.1 MB 3.4 MB/s eta 0:00:02\n",
      "   ---------------------------- ----------- 11.5/16.1 MB 3.5 MB/s eta 0:00:02\n",
      "   ----------------------------- ---------- 11.7/16.1 MB 3.6 MB/s eta 0:00:02\n",
      "   ----------------------------- ---------- 12.0/16.1 MB 3.7 MB/s eta 0:00:02\n",
      "   ------------------------------ --------- 12.2/16.1 MB 3.7 MB/s eta 0:00:02\n",
      "   ------------------------------ --------- 12.4/16.1 MB 3.7 MB/s eta 0:00:01\n",
      "   ------------------------------- -------- 12.7/16.1 MB 3.7 MB/s eta 0:00:01\n",
      "   -------------------------------- ------- 12.9/16.1 MB 3.8 MB/s eta 0:00:01\n",
      "   -------------------------------- ------- 13.2/16.1 MB 3.8 MB/s eta 0:00:01\n",
      "   --------------------------------- ------ 13.3/16.1 MB 3.9 MB/s eta 0:00:01\n",
      "   --------------------------------- ------ 13.5/16.1 MB 3.9 MB/s eta 0:00:01\n",
      "   ---------------------------------- ----- 13.7/16.1 MB 3.9 MB/s eta 0:00:01\n",
      "   ---------------------------------- ----- 14.0/16.1 MB 3.9 MB/s eta 0:00:01\n",
      "   ----------------------------------- ---- 14.1/16.1 MB 4.0 MB/s eta 0:00:01\n",
      "   ----------------------------------- ---- 14.3/16.1 MB 4.0 MB/s eta 0:00:01\n",
      "   ------------------------------------ --- 14.6/16.1 MB 4.1 MB/s eta 0:00:01\n",
      "   ------------------------------------ --- 14.7/16.1 MB 4.1 MB/s eta 0:00:01\n",
      "   ------------------------------------- -- 15.0/16.1 MB 4.2 MB/s eta 0:00:01\n",
      "   ------------------------------------- -- 15.2/16.1 MB 4.2 MB/s eta 0:00:01\n",
      "   -------------------------------------- - 15.4/16.1 MB 4.2 MB/s eta 0:00:01\n",
      "   -------------------------------------- - 15.6/16.1 MB 4.2 MB/s eta 0:00:01\n",
      "   ---------------------------------------  15.8/16.1 MB 4.3 MB/s eta 0:00:01\n",
      "   ---------------------------------------  16.0/16.1 MB 4.3 MB/s eta 0:00:01\n",
      "   ---------------------------------------  16.1/16.1 MB 4.3 MB/s eta 0:00:01\n",
      "   ---------------------------------------- 16.1/16.1 MB 4.2 MB/s eta 0:00:00\n",
      "Installing collected packages: mysql-connector-python\n",
      "Successfully installed mysql-connector-python-9.2.0\n"
     ]
    },
    {
     "name": "stderr",
     "output_type": "stream",
     "text": [
      "\n",
      "[notice] A new release of pip is available: 24.1.2 -> 25.0.1\n",
      "[notice] To update, run: python.exe -m pip install --upgrade pip\n"
     ]
    }
   ],
   "source": [
    "!pip install pandas mysql-connector-python\n"
   ]
  },
  {
   "cell_type": "code",
   "execution_count": 7,
   "id": "841d1843",
   "metadata": {},
   "outputs": [
    {
     "name": "stdout",
     "output_type": "stream",
     "text": [
      "                                        Product Name  Price  Rating  Reviews  \\\n",
      "0  Lenovo IdeaPad Slim 5 12th Gen Intel Core i5 1...  60190     3.9      771   \n",
      "1  Lenovo IdeaPad Slim 3 12th Gen Intel Core i5-1...  54090     3.9      462   \n",
      "2  Acer Aspire Lite AMD Ryzen 5-5625U Premium Thi...  34490     3.9     1052   \n",
      "3  (Refurbished) Lenovo ThinkPad 8th Gen Intel Co...  17498     3.3      236   \n",
      "4  HP 15, 12th Gen Intel Core i5-1235U, 16GB DDR4...  49990     3.9      327   \n",
      "\n",
      "   Discount Availability Delivery Date  \n",
      "0        20     In stock       1 March  \n",
      "1        23     In stock       1 March  \n",
      "2        42     In stock       1 March  \n",
      "3        65     In stock       2 March  \n",
      "4        20     In stock       1 March  \n"
     ]
    }
   ],
   "source": [
    "import pandas as pd\n",
    "\n",
    "# Provide the absolute file path\n",
    "df = pd.read_excel(r\"C:\\Users\\HP\\OneDrive\\Desktop\\cleant1\\clean45\\cleannew.xlsx\")\n",
    "print(df.head())\n"
   ]
  },
  {
   "cell_type": "code",
   "execution_count": 10,
   "id": "df3c8ea7",
   "metadata": {},
   "outputs": [
    {
     "name": "stdout",
     "output_type": "stream",
     "text": [
      "Product Name: 269 unique values\n",
      "Price: 204 unique values\n",
      "Rating: 22 unique values\n",
      "Reviews: 122 unique values\n",
      "Discount: 67 unique values\n",
      "Availability: 6 unique values\n",
      "Delivery Date: 10 unique values\n"
     ]
    }
   ],
   "source": [
    "# Display the count of unique values instead of full list\n",
    "for column in df.columns:\n",
    "    unique_count = df[column].nunique()\n",
    "    print(f\"{column}: {unique_count} unique values\")\n"
   ]
  },
  {
   "cell_type": "code",
   "execution_count": 11,
   "id": "c90bbbcd",
   "metadata": {},
   "outputs": [
    {
     "name": "stdout",
     "output_type": "stream",
     "text": [
      "                                          Product Name  Price  Rating  \\\n",
      "7    Apple MacBook Air Laptop: Apple M1 chip, 13.3-...  64990     4.6   \n",
      "8    Lenovo V15 AMD Ryzen 7 7730U 15.6\" (39.62cm) F...  39990     4.1   \n",
      "12   HP Victus, AMD Ryzen 5 5600H, NVIDIA RTX 3050,...  58900     4.1   \n",
      "14   (Refurbished) Lenovo Thinkpad X13 Intel Core i...  19999     4.4   \n",
      "17   HP 15, AMD Ryzen 3 7320U, 8GB LPDDR5, 512GB SS...  30039     4.1   \n",
      "..                                                 ...    ...     ...   \n",
      "247  Acer Nitro V Gaming Laptop AMD Ryzen 7-7735HS ...  81990     4.2   \n",
      "258  Acer Nitro V Gaming Laptop AMD Ryzen 7-7735HS ...  71990     4.2   \n",
      "261  Lenovo IdeaPad Slim 3 Core i5 13420H (16GB RAM...  59008     5.0   \n",
      "262  Logitech M186 Wireless Mouse, 2.4GHz with USB ...    495     4.3   \n",
      "267  HONOR MagicBook X16 Pro 2024, 13th Gen Intel C...  56990     4.2   \n",
      "\n",
      "     Reviews  Discount Availability Delivery Date  \n",
      "7       6409        30     In stock       1 March  \n",
      "8         62        32     In stock       1 March  \n",
      "12       210        19     In stock       1 March  \n",
      "14         3        78     In stock       1 March  \n",
      "17      1489        35     In stock       1 March  \n",
      "..       ...       ...          ...           ...  \n",
      "247       61        20     In stock       1 March  \n",
      "258       61        18     In stock       1 March  \n",
      "261        1        32     In stock       1 March  \n",
      "262    77045        59     In stock       1 March  \n",
      "267      590        28     In stock       1 March  \n",
      "\n",
      "[75 rows x 7 columns]\n"
     ]
    }
   ],
   "source": [
    "# Filter rows where Rating > 4.0\n",
    "high_rating = df[df['Rating'] > 4.0]\n",
    "print(high_rating)\n"
   ]
  },
  {
   "cell_type": "code",
   "execution_count": 18,
   "id": "262ed277",
   "metadata": {},
   "outputs": [
    {
     "name": "stdout",
     "output_type": "stream",
     "text": [
      "                                          Product Name   Price  Rating  \\\n",
      "128  ASUS Zenbook Duo,14\" 3K (2880 x 1800) OLED, To...  239000     4.0   \n",
      "81   ASUS TUF Gaming, Gaming Laptop, 14\" FHD, 165Hz...  164990     4.3   \n",
      "86   MSI CreatorPro M16, Intel 13th Gen. i7-13700H,...  160820     5.0   \n",
      "56   ASUS ROG Strix G16 (2023) Gaming Laptop, 90WHr...  159990     4.0   \n",
      "131  ASUS Zenbook 14, 14\" 3K (2880 x 1800) OLED, To...  142990     4.0   \n",
      "\n",
      "     Reviews  Discount Availability Delivery Date  \n",
      "128        0        18     In stock       1 March  \n",
      "81         5        19     In stock       1 March  \n",
      "86         1        28     In stock       1 March  \n",
      "56        22        11       2 Left       1 March  \n",
      "131        0        16     In stock       1 March  \n"
     ]
    }
   ],
   "source": [
    "# Sort by Price descending\n",
    "sorted_by_price = df.sort_values(by='Price', ascending=False)\n",
    "print(sorted_by_price.head())\n",
    "\n"
   ]
  },
  {
   "cell_type": "code",
   "execution_count": 19,
   "id": "b5aa56b8",
   "metadata": {},
   "outputs": [
    {
     "name": "stdout",
     "output_type": "stream",
     "text": [
      "Product Name     ASUS Zenbook Duo,14\" 3K (2880 x 1800) OLED, To...\n",
      "Price                                                       239000\n",
      "Rating                                                         4.0\n",
      "Reviews                                                          0\n",
      "Discount                                                        18\n",
      "Availability                                              In stock\n",
      "Delivery Date                                              1 March\n",
      "Name: 128, dtype: object\n"
     ]
    }
   ],
   "source": [
    "# Get the row with the maximum price\n",
    "most_expensive = df.loc[df['Price'].idxmax()]\n",
    "print(most_expensive)\n"
   ]
  },
  {
   "cell_type": "code",
   "execution_count": 20,
   "id": "5b143b97",
   "metadata": {},
   "outputs": [
    {
     "name": "stdout",
     "output_type": "stream",
     "text": [
      "Availability\n",
      "In stock                                                                 239\n",
      "1 Left                                                                    16\n",
      "Unavailable                                                                9\n",
      "2 Left                                                                     4\n",
      "Unavailable We don't know when or if this item will be back in stock.      3\n",
      "Available to ship in 1-2 days                                              1\n",
      "Name: count, dtype: int64\n"
     ]
    }
   ],
   "source": [
    "# Count laptops based on Availability status\n",
    "availability_count = df['Availability'].value_counts()\n",
    "print(availability_count)\n"
   ]
  },
  {
   "cell_type": "code",
   "execution_count": 21,
   "id": "9a6ea870",
   "metadata": {},
   "outputs": [
    {
     "name": "stdout",
     "output_type": "stream",
     "text": [
      "Average Price of Laptops In Stock: 50884.37238493724\n"
     ]
    }
   ],
   "source": [
    "# Calculate the average price of 'In stock' laptops\n",
    "average_price_in_stock = df[df['Availability'] == 'In stock']['Price'].mean()\n",
    "print(f\"Average Price of Laptops In Stock: {average_price_in_stock}\")\n"
   ]
  },
  {
   "cell_type": "code",
   "execution_count": 22,
   "id": "e200817e",
   "metadata": {},
   "outputs": [
    {
     "name": "stdout",
     "output_type": "stream",
     "text": [
      "                                          Product Name  Price  Rating  \\\n",
      "0    Lenovo IdeaPad Slim 5 12th Gen Intel Core i5 1...  60190     3.9   \n",
      "2    Acer Aspire Lite AMD Ryzen 5-5625U Premium Thi...  34490     3.9   \n",
      "7    Apple MacBook Air Laptop: Apple M1 chip, 13.3-...  64990     4.6   \n",
      "17   HP 15, AMD Ryzen 3 7320U, 8GB LPDDR5, 512GB SS...  30039     4.1   \n",
      "18   Chuwi HeroBook Pro 14.1'' Intel Celeron N4020 ...  15990     3.6   \n",
      "19   HP 15s, 12th Gen Intel Core i3-1215U, 8GB DDR4...  36490     4.1   \n",
      "23   Lenovo IdeaPad Slim 3 13th Gen Intel Core i7-1...  64490     3.9   \n",
      "26   HP 15, 13th Gen Intel Core i3-1315U, 8GB DDR4,...  39590     4.1   \n",
      "29   Acer [Smartchoice Aspire Lite AMD Ryzen 3 5300...  28999     3.9   \n",
      "33   HP 15S AMD Ryzen 5000 (16GB Ram/512GB SSD/Fhd/...  40990     4.0   \n",
      "39   Dell 15 Thin & Light Laptop, Intel Core i5-123...  51990     3.7   \n",
      "41   Dell [Smartchoice] Windows 11 Home 3520 Laptop...  34990     3.7   \n",
      "44   HP 15s, AMD Ryzen 5 5500U, 8GB DDR4, 512GB SSD...  37732     4.1   \n",
      "62   HP Pavilion 14, 12th Gen Intel Core i7-1255U, ...  75990     4.0   \n",
      "64   HP EliteBook 840 G10 Notebook, 14\" WUXGA Busin...  92990     4.6   \n",
      "79   Acer Aspire Lite 11th Gen Intel Core i3 Premiu...  29990     4.0   \n",
      "91   Lenovo IdeaPad Slim 3 13th Gen Core i3-1305U (...  37190     4.1   \n",
      "96   Lenovo IdeaPad Slim 3 Intel Core i3 12th Gen 1...  33990     4.1   \n",
      "104  HP 14s Core i3 12th Gen (8GB RAM/512GB SSD/FHD...  37690     4.1   \n",
      "111  Lenovo IdeaPad 3 12th Gen Intel Core i3-1215U ...  37500     4.1   \n",
      "112  Chuwi HeroBook Plus 15.6\" FHD Laptop, Intel Ce...  17990     3.6   \n",
      "133  HP Laptop 15s, AMD Ryzen 3 5300U, 15.6-inch (3...  31490     4.1   \n",
      "144  Acer Aspire Lite AMD Ryzen 3 5300U Premium Thi...  29990     3.9   \n",
      "154  Acer Nitro V Gaming Laptop 13th Gen Intel Core...  83990     4.1   \n",
      "158  HP 15s,12th Gen Intel Core i3-1215U, 8GB DDR4,...  34999     4.2   \n",
      "178  Lenovo IdeaPad 1 Ryzen 5 5625U (16GB RAM/512GB...  39490     4.0   \n",
      "183  HP Pavilion, 12th Gen Intel Core i5-1235U, 16G...  63299     4.0   \n",
      "208  HP 15s Laptop 12th Gen Intel Core i5-1235U, 8G...  44980     4.0   \n",
      "211  Dyazo 6 Angles Adjustable Aluminum Ergonomic F...    399     4.3   \n",
      "214  Dell {Smartchoice} G15-5530 Core i5-13450HX| N...  78990     3.9   \n",
      "243  Lenovo [Smartchoice LOQ 12th Gen Intel Core i5...  69990     4.0   \n",
      "253  Lenovo IdeaPad 1 AMD Ryzen 5 5500U 15.6\" (39.6...  35990     4.0   \n",
      "262  Logitech M186 Wireless Mouse, 2.4GHz with USB ...    495     4.3   \n",
      "267  HONOR MagicBook X16 Pro 2024, 13th Gen Intel C...  56990     4.2   \n",
      "\n",
      "     Reviews  Discount Availability Delivery Date  \n",
      "0        771        20     In stock       1 March  \n",
      "2       1052        42     In stock       1 March  \n",
      "7       6409        30     In stock       1 March  \n",
      "17      1489        35     In stock       1 March  \n",
      "18      3183        54     In stock       1 March  \n",
      "19      1166        29     In stock       1 March  \n",
      "23       771        26     In stock       1 March  \n",
      "26      1923        24     In stock       1 March  \n",
      "29      1052        40     In stock       1 March  \n",
      "33       862        31     In stock       1 March  \n",
      "39       878        23     In stock       1 March  \n",
      "41       878        29     In stock   28 February  \n",
      "44      1065        38     In stock       1 March  \n",
      "62       683        22     In stock       1 March  \n",
      "64       949        30       1 Left       2 March  \n",
      "79       771        43     In stock       1 March  \n",
      "91      1027        32     In stock       1 March  \n",
      "96      1027        38     In stock       1 March  \n",
      "104     1210        26       1 Left       2 March  \n",
      "111     1027        59     In stock       1 March  \n",
      "112     3183        55     In stock       1 March  \n",
      "133     1489        35     In stock       1 March  \n",
      "144     1052        40     In stock       1 March  \n",
      "154      566        10     In stock       1 March  \n",
      "158      688        30     In stock       1 March  \n",
      "178     1919        30     In stock       1 March  \n",
      "183      683        21     In stock       1 March  \n",
      "208      895        55     In stock       1 March  \n",
      "211    12591        80     In stock       1 March  \n",
      "214     1040        26     In stock   28 February  \n",
      "243      502        27     In stock       1 March  \n",
      "253     1919        35     In stock       1 March  \n",
      "262    77045        59     In stock       1 March  \n",
      "267      590        28     In stock       1 March  \n"
     ]
    }
   ],
   "source": [
    "# Filter laptops with reviews greater than 500\n",
    "popular_laptops = df[df['Reviews'] > 500]\n",
    "print(popular_laptops)\n"
   ]
  },
  {
   "cell_type": "code",
   "execution_count": 23,
   "id": "e4989b20",
   "metadata": {},
   "outputs": [
    {
     "name": "stdout",
     "output_type": "stream",
     "text": [
      "Delivery Date\n",
      "1 March        54445.752381\n",
      "2 March        36330.866667\n",
      "20 March       39990.000000\n",
      "27 February    60490.000000\n",
      "28 February    63780.000000\n",
      "3 March        49494.500000\n",
      "4 March        87690.000000\n",
      "5 March        28077.600000\n",
      "5 hrs           1799.000000\n",
      "Unknown        43447.142857\n",
      "Name: Price, dtype: float64\n"
     ]
    }
   ],
   "source": [
    "# Group by Delivery Date and calculate the average price\n",
    "avg_price_per_delivery = df.groupby('Delivery Date')['Price'].mean()\n",
    "print(avg_price_per_delivery)\n"
   ]
  },
  {
   "cell_type": "code",
   "execution_count": 27,
   "id": "7729fee1",
   "metadata": {},
   "outputs": [
    {
     "name": "stdout",
     "output_type": "stream",
     "text": [
      "thank you\n"
     ]
    }
   ],
   "source": [
    "print(\"thank you\")\n"
   ]
  },
  {
   "cell_type": "code",
   "execution_count": null,
   "id": "03443c7c",
   "metadata": {},
   "outputs": [],
   "source": []
  }
 ],
 "metadata": {
  "kernelspec": {
   "display_name": "Python 3 (ipykernel)",
   "language": "python",
   "name": "python3"
  },
  "language_info": {
   "codemirror_mode": {
    "name": "ipython",
    "version": 3
   },
   "file_extension": ".py",
   "mimetype": "text/x-python",
   "name": "python",
   "nbconvert_exporter": "python",
   "pygments_lexer": "ipython3",
   "version": "3.11.4"
  }
 },
 "nbformat": 4,
 "nbformat_minor": 5
}
